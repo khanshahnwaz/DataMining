{
 "cells": [
  {
   "attachments": {},
   "cell_type": "markdown",
   "metadata": {},
   "source": [
    "Name: Shahnwaz Khan\n",
    "Roll: AC-1272\n",
    "Subject: Data Mining\n",
    "Semester: VI\n",
    "Practical: Q5"
   ]
  },
  {
   "cell_type": "code",
   "execution_count": 1,
   "metadata": {},
   "outputs": [],
   "source": [
    "import pandas as pd\n",
    "from sklearn.model_selection import train_test_split\n",
    "# Import Gaussian Naive Bayes \n",
    "from sklearn.naive_bayes import GaussianNB\n",
    "# For K Nearest\n",
    "from sklearn.neighbors import KNeighborsClassifier\n",
    "# Decision Tree\n",
    "from sklearn.tree import DecisionTreeClassifier\n",
    "# metrics to calculate the accuracy of classifiers\n",
    "from sklearn import metrics\n",
    "# seaborn to load the iris data set\n",
    "import seaborn as sns"
   ]
  },
  {
   "cell_type": "code",
   "execution_count": 2,
   "metadata": {},
   "outputs": [
    {
     "data": {
      "text/html": [
       "<div>\n",
       "<style scoped>\n",
       "    .dataframe tbody tr th:only-of-type {\n",
       "        vertical-align: middle;\n",
       "    }\n",
       "\n",
       "    .dataframe tbody tr th {\n",
       "        vertical-align: top;\n",
       "    }\n",
       "\n",
       "    .dataframe thead th {\n",
       "        text-align: right;\n",
       "    }\n",
       "</style>\n",
       "<table border=\"1\" class=\"dataframe\">\n",
       "  <thead>\n",
       "    <tr style=\"text-align: right;\">\n",
       "      <th></th>\n",
       "      <th>sepal_length</th>\n",
       "      <th>sepal_width</th>\n",
       "      <th>petal_length</th>\n",
       "      <th>petal_width</th>\n",
       "      <th>species</th>\n",
       "    </tr>\n",
       "  </thead>\n",
       "  <tbody>\n",
       "    <tr>\n",
       "      <th>0</th>\n",
       "      <td>5.1</td>\n",
       "      <td>3.5</td>\n",
       "      <td>1.4</td>\n",
       "      <td>0.2</td>\n",
       "      <td>setosa</td>\n",
       "    </tr>\n",
       "    <tr>\n",
       "      <th>1</th>\n",
       "      <td>4.9</td>\n",
       "      <td>3.0</td>\n",
       "      <td>1.4</td>\n",
       "      <td>0.2</td>\n",
       "      <td>setosa</td>\n",
       "    </tr>\n",
       "    <tr>\n",
       "      <th>2</th>\n",
       "      <td>4.7</td>\n",
       "      <td>3.2</td>\n",
       "      <td>1.3</td>\n",
       "      <td>0.2</td>\n",
       "      <td>setosa</td>\n",
       "    </tr>\n",
       "    <tr>\n",
       "      <th>3</th>\n",
       "      <td>4.6</td>\n",
       "      <td>3.1</td>\n",
       "      <td>1.5</td>\n",
       "      <td>0.2</td>\n",
       "      <td>setosa</td>\n",
       "    </tr>\n",
       "    <tr>\n",
       "      <th>4</th>\n",
       "      <td>5.0</td>\n",
       "      <td>3.6</td>\n",
       "      <td>1.4</td>\n",
       "      <td>0.2</td>\n",
       "      <td>setosa</td>\n",
       "    </tr>\n",
       "  </tbody>\n",
       "</table>\n",
       "</div>"
      ],
      "text/plain": [
       "   sepal_length  sepal_width  petal_length  petal_width species\n",
       "0           5.1          3.5           1.4          0.2  setosa\n",
       "1           4.9          3.0           1.4          0.2  setosa\n",
       "2           4.7          3.2           1.3          0.2  setosa\n",
       "3           4.6          3.1           1.5          0.2  setosa\n",
       "4           5.0          3.6           1.4          0.2  setosa"
      ]
     },
     "metadata": {},
     "output_type": "display_data"
    }
   ],
   "source": [
    "df=sns.load_dataset('iris')\n",
    "display(df.head())"
   ]
  },
  {
   "attachments": {},
   "cell_type": "markdown",
   "metadata": {},
   "source": [
    "Choosing Training set using HOLD OUT method"
   ]
  },
  {
   "cell_type": "code",
   "execution_count": 3,
   "metadata": {},
   "outputs": [],
   "source": [
    "# store the feature matrix (X) and response vector (y)\n",
    "X = df.drop(columns='species')\n",
    "y = df['species']\n",
    "# splitting X and y into training and testing sets\n",
    "X_train, X_test, y_train, y_test = train_test_split(X, y, test_size=0.2)"
   ]
  },
  {
   "attachments": {},
   "cell_type": "markdown",
   "metadata": {},
   "source": [
    "Naive Bayes Classifier"
   ]
  },
  {
   "cell_type": "code",
   "execution_count": 4,
   "metadata": {},
   "outputs": [],
   "source": [
    "# Naive Bayes Classifier\n",
    "gnb = GaussianNB()\n",
    "gnb.fit(X_train, y_train)\n",
    "# making predictions on the testing set\n",
    "y_pred = gnb.predict(X_test)"
   ]
  },
  {
   "cell_type": "code",
   "execution_count": 5,
   "metadata": {},
   "outputs": [],
   "source": [
    "Naive_Accuracy= metrics.accuracy_score(y_test, y_pred)*100"
   ]
  },
  {
   "attachments": {},
   "cell_type": "markdown",
   "metadata": {},
   "source": [
    "KNN"
   ]
  },
  {
   "cell_type": "code",
   "execution_count": 6,
   "metadata": {},
   "outputs": [],
   "source": [
    "# Create an instance of KNN class. Neighbors size=5 and p=2 means use Euclidean distance \n",
    "classifier=KNeighborsClassifier(n_neighbors = 5, metric = 'minkowski', p = 2)\n",
    "# Train our data by fitting the data into our model\n",
    "classifier.fit(X_train,y_train)\n",
    "# Now predict the output\n",
    "y_pred=classifier.predict(X_test)"
   ]
  },
  {
   "cell_type": "code",
   "execution_count": 7,
   "metadata": {},
   "outputs": [],
   "source": [
    "KNN_Accuracy= metrics.accuracy_score(y_test, y_pred)*100"
   ]
  },
  {
   "attachments": {},
   "cell_type": "markdown",
   "metadata": {},
   "source": [
    "Decision Tree"
   ]
  },
  {
   "cell_type": "code",
   "execution_count": 8,
   "metadata": {},
   "outputs": [],
   "source": [
    "# Creating instance of Decision Tree Classifier\n",
    "DC=DecisionTreeClassifier()\n",
    "# Fit the model\n",
    "DC.fit(X_train,y_train)\n",
    "# Predict the result\n",
    "y_pred=DC.predict(X_test)"
   ]
  },
  {
   "cell_type": "code",
   "execution_count": 9,
   "metadata": {},
   "outputs": [],
   "source": [
    "Decision_Accuracy= metrics.accuracy_score(y_test, y_pred)*100"
   ]
  },
  {
   "cell_type": "code",
   "execution_count": 10,
   "metadata": {},
   "outputs": [
    {
     "name": "stdout",
     "output_type": "stream",
     "text": [
      "Naive Bayes Accuracy:  86.66666666666667\n",
      "KNN accuracy:  86.66666666666667\n",
      "Decision Tree Accuracy:  93.33333333333333\n"
     ]
    }
   ],
   "source": [
    "print('Naive Bayes Accuracy: ',Naive_Accuracy)\n",
    "print('KNN accuracy: ',KNN_Accuracy)\n",
    "print('Decision Tree Accuracy: ',Decision_Accuracy)"
   ]
  },
  {
   "attachments": {},
   "cell_type": "markdown",
   "metadata": {},
   "source": [
    "Comparing Different Classifiers using Bar Plot"
   ]
  },
  {
   "cell_type": "code",
   "execution_count": 11,
   "metadata": {},
   "outputs": [
    {
     "data": {
      "text/html": [
       "<div>\n",
       "<style scoped>\n",
       "    .dataframe tbody tr th:only-of-type {\n",
       "        vertical-align: middle;\n",
       "    }\n",
       "\n",
       "    .dataframe tbody tr th {\n",
       "        vertical-align: top;\n",
       "    }\n",
       "\n",
       "    .dataframe thead th {\n",
       "        text-align: right;\n",
       "    }\n",
       "</style>\n",
       "<table border=\"1\" class=\"dataframe\">\n",
       "  <thead>\n",
       "    <tr style=\"text-align: right;\">\n",
       "      <th></th>\n",
       "      <th>Naive</th>\n",
       "      <th>KNN</th>\n",
       "      <th>Decision</th>\n",
       "    </tr>\n",
       "  </thead>\n",
       "  <tbody>\n",
       "    <tr>\n",
       "      <th>classifier</th>\n",
       "      <td>86.666667</td>\n",
       "      <td>86.666667</td>\n",
       "      <td>93.333333</td>\n",
       "    </tr>\n",
       "  </tbody>\n",
       "</table>\n",
       "</div>"
      ],
      "text/plain": [
       "                Naive        KNN   Decision\n",
       "classifier  86.666667  86.666667  93.333333"
      ]
     },
     "execution_count": 11,
     "metadata": {},
     "output_type": "execute_result"
    }
   ],
   "source": [
    "df=pd.DataFrame([[Naive_Accuracy,KNN_Accuracy,Decision_Accuracy]],columns=['Naive','KNN','Decision'],index=['classifier'])\n",
    "df"
   ]
  },
  {
   "cell_type": "code",
   "execution_count": 12,
   "metadata": {},
   "outputs": [
    {
     "data": {
      "text/plain": [
       "<AxesSubplot:>"
      ]
     },
     "execution_count": 12,
     "metadata": {},
     "output_type": "execute_result"
    },
    {
     "data": {
      "image/png": "[encoded data removed]",
      "text/plain": [
       "<Figure size 432x288 with 1 Axes>"
      ]
     },
     "metadata": {
      "needs_background": "light"
     },
     "output_type": "display_data"
    }
   ],
   "source": [
    "df.plot.bar()"
   ]
  },
  {
   "attachments": {},
   "cell_type": "markdown",
   "metadata": {},
   "source": [
    "(ii) Choose Training set using Random Sub Sampling method"
   ]
  },
  {
   "attachments": {},
   "cell_type": "markdown",
   "metadata": {},
   "source": [
    "Random subsampling"
   ]
  },
  {
   "cell_type": "code",
   "execution_count": 13,
   "metadata": {},
   "outputs": [
    {
     "name": "stdout",
     "output_type": "stream",
     "text": [
      "Naive Bayes Accuracy:  94.44444444444446\n",
      "KNN accuracy:  96.66666666666666\n",
      "Decision Tree Accuracy:  93.33333333333334\n"
     ]
    }
   ],
   "source": [
    "k=3  # Count of random selection of samples\n",
    "Decision_Accuracy=0  # Accuracy of decision tree\n",
    "KNN_Accuracy=0 # Accuracy of KNN\n",
    "Naive_Accuracy=0 # Accuracy of Naive Bayes  \n",
    "for i in range(k):\n",
    "    X_train, X_test, y_train, y_test = train_test_split(X, y, test_size=0.2)\n",
    "    \n",
    "# Fit the decision tree model\n",
    "    DC.fit(X_train,y_train)\n",
    "    # Fit KNN Model\n",
    "    classifier.fit(X_train,y_train)\n",
    "    # Fit Naive Bayes Model\n",
    "    gnb.fit(X_train,y_train)\n",
    "# Predict the result using each classifier\n",
    "    y_pred_dc=DC.predict(X_test)\n",
    "    y_pred_knn=classifier.predict(X_test)\n",
    "    y_pred_naive=gnb.predict(X_test)\n",
    "\n",
    "    # Now find the accuracy of each classifier \n",
    "    #Decision tree\n",
    "    acc_temp_DC= metrics.accuracy_score(y_test, y_pred_dc)*100\n",
    "    Decision_Accuracy+=acc_temp_DC/k\n",
    "\n",
    "    # KNN\n",
    "    acc_temp_KNN= metrics.accuracy_score(y_test, y_pred_knn)*100\n",
    "    KNN_Accuracy+=acc_temp_KNN/k\n",
    "\n",
    "    # Naive Bayes\n",
    "    acc_temp_Naive= metrics.accuracy_score(y_test, y_pred_naive)*100\n",
    "    Naive_Accuracy+=acc_temp_Naive/k\n",
    "\n",
    "print('Naive Bayes Accuracy: ',Naive_Accuracy)\n",
    "print('KNN accuracy: ',KNN_Accuracy)\n",
    "print('Decision Tree Accuracy: ',Decision_Accuracy)"
   ]
  },
  {
   "attachments": {},
   "cell_type": "markdown",
   "metadata": {},
   "source": [
    "Compare different classifier using Bar Plot"
   ]
  },
  {
   "cell_type": "code",
   "execution_count": 14,
   "metadata": {},
   "outputs": [
    {
     "data": {
      "text/html": [
       "<div>\n",
       "<style scoped>\n",
       "    .dataframe tbody tr th:only-of-type {\n",
       "        vertical-align: middle;\n",
       "    }\n",
       "\n",
       "    .dataframe tbody tr th {\n",
       "        vertical-align: top;\n",
       "    }\n",
       "\n",
       "    .dataframe thead th {\n",
       "        text-align: right;\n",
       "    }\n",
       "</style>\n",
       "<table border=\"1\" class=\"dataframe\">\n",
       "  <thead>\n",
       "    <tr style=\"text-align: right;\">\n",
       "      <th></th>\n",
       "      <th>Naive</th>\n",
       "      <th>KNN</th>\n",
       "      <th>Decision</th>\n",
       "    </tr>\n",
       "  </thead>\n",
       "  <tbody>\n",
       "    <tr>\n",
       "      <th>classifier</th>\n",
       "      <td>94.444444</td>\n",
       "      <td>96.666667</td>\n",
       "      <td>93.333333</td>\n",
       "    </tr>\n",
       "  </tbody>\n",
       "</table>\n",
       "</div>"
      ],
      "text/plain": [
       "                Naive        KNN   Decision\n",
       "classifier  94.444444  96.666667  93.333333"
      ]
     },
     "execution_count": 14,
     "metadata": {},
     "output_type": "execute_result"
    }
   ],
   "source": [
    "df=pd.DataFrame([[Naive_Accuracy,KNN_Accuracy,Decision_Accuracy]],columns=['Naive','KNN','Decision'],index=['classifier'])\n",
    "df"
   ]
  },
  {
   "cell_type": "code",
   "execution_count": 15,
   "metadata": {},
   "outputs": [
    {
     "data": {
      "text/plain": [
       "<AxesSubplot:>"
      ]
     },
     "execution_count": 15,
     "metadata": {},
     "output_type": "execute_result"
    },
    {
     "data": {
      "image/png": "[encoded data removed]",
      "text/plain": [
       "<Figure size 432x288 with 1 Axes>"
      ]
     },
     "metadata": {
      "needs_background": "light"
     },
     "output_type": "display_data"
    }
   ],
   "source": [
    "df.plot.bar()"
   ]
  },
  {
   "attachments": {},
   "cell_type": "markdown",
   "metadata": {},
   "source": [
    "5.3 Data is scaled to standard format."
   ]
  },
  {
   "cell_type": "code",
   "execution_count": 16,
   "metadata": {},
   "outputs": [],
   "source": [
    "from sklearn.preprocessing import StandardScaler"
   ]
  },
  {
   "cell_type": "code",
   "execution_count": 17,
   "metadata": {},
   "outputs": [
    {
     "name": "stdout",
     "output_type": "stream",
     "text": [
      "[[ 0.38000826 -0.54284038  0.20249287  0.22420504]\n",
      " [ 0.25840562 -0.31102242  0.48636138  0.49460307]\n",
      " [-0.22800496 -1.23829425  0.14571917 -0.046193  ]\n",
      " [ 2.32565056  1.77533918  1.73538283  1.44099619]\n",
      " [ 0.38000826 -0.07920447  0.54313508  0.35940405]\n",
      " [ 0.74481619 -0.31102242  0.37281398  0.22420504]\n",
      " [-0.95762082  0.84806735 -1.21684968 -1.26298415]\n",
      " [ 0.25840562 -0.77465834  0.8270036   0.62980209]\n",
      " [ 0.62321355 -1.23829425  0.77022989  1.03539914]\n",
      " [ 0.62321355 -0.31102242  1.11087211  0.90020012]\n",
      " [-0.10640231 -0.07920447  0.31604028  0.08900602]\n",
      " [ 2.32565056 -0.07920447  1.39474062  1.5761952 ]\n",
      " [-0.83601817  1.07988531 -1.27362339 -1.26298415]\n",
      " [ 0.74481619  0.15261349  1.0540984   0.90020012]\n",
      " [-0.59281289  1.54352122 -1.21684968 -1.26298415]\n",
      " [ 0.38000826 -0.54284038  0.59990879  0.08900602]\n",
      " [ 0.25840562 -0.07920447  0.65668249  0.90020012]\n",
      " [ 0.98802148 -0.31102242  0.54313508  0.22420504]\n",
      " [-1.44403139  0.15261349 -1.21684968 -1.26298415]\n",
      " [ 0.62321355 -0.54284038  0.8270036   0.49460307]\n",
      " [-1.07922346 -1.4701122  -0.19492304 -0.18139201]\n",
      " [-1.32242875  0.38443144 -1.33039709 -1.26298415]\n",
      " [-0.83601817  0.6162494  -1.10330228 -0.8573871 ]\n",
      " [-1.07922346  0.15261349 -1.21684968 -1.26298415]\n",
      " [ 0.62321355 -0.77465834  0.71345619  0.90020012]\n",
      " [-0.83601817 -1.23829425 -0.36524415 -0.046193  ]\n",
      " [-1.68723668 -0.31102242 -1.27362339 -1.26298415]\n",
      " [-1.68723668 -0.07920447 -1.33039709 -1.26298415]\n",
      " [-0.3496076   1.07988531 -1.33039709 -1.26298415]\n",
      " [ 1.10962412 -0.07920447  0.77022989  0.7650011 ]\n",
      " [-0.3496076  -1.4701122   0.08894547 -0.046193  ]\n",
      " [-1.07922346  0.15261349 -1.21684968 -1.39818317]\n",
      " [-0.10640231 -0.54284038  0.25926657  0.22420504]\n",
      " [ 0.86641883 -0.07920447  1.22441951  1.44099619]\n",
      " [-0.71441553  1.07988531 -1.21684968 -1.26298415]\n",
      " [-0.47121024 -0.07920447  0.48636138  0.49460307]\n",
      " [ 0.25840562 -1.93374811  0.20249287 -0.18139201]\n",
      " [ 0.13680297  0.38443144  0.65668249  0.90020012]\n",
      " [-1.56563404 -1.70193016 -1.33039709 -1.12778513]\n",
      " [-0.95762082  0.38443144 -1.38717079 -1.26298415]\n",
      " [ 0.13680297 -0.07920447  0.8270036   0.90020012]\n",
      " [-1.07922346 -0.07920447 -1.27362339 -1.26298415]\n",
      " [ 0.74481619  0.38443144  0.940551    1.5761952 ]\n",
      " [ 0.74481619  0.38443144  0.48636138  0.49460307]\n",
      " [-0.47121024  1.54352122 -1.21684968 -1.26298415]\n",
      " [-1.32242875  0.38443144 -1.16007598 -1.26298415]\n",
      " [ 0.86641883 -0.54284038  0.54313508  0.49460307]\n",
      " [ 0.74481619 -0.54284038  1.11087211  1.44099619]\n",
      " [-0.83601817  0.84806735 -1.21684968 -1.26298415]\n",
      " [-0.47121024  0.84806735 -1.21684968 -0.99258612]\n",
      " [ 1.10962412  0.15261349  0.59990879  0.49460307]\n",
      " [-0.95762082  0.84806735 -1.16007598 -0.99258612]\n",
      " [-0.3496076  -1.70193016  0.20249287  0.22420504]\n",
      " [-0.71441553 -0.77465834  0.14571917  0.35940405]\n",
      " [-0.71441553  0.84806735 -1.27362339 -1.26298415]\n",
      " [ 0.01520033 -1.00647629  0.20249287  0.08900602]\n",
      " [-1.2008261   0.84806735 -0.98975488 -1.26298415]\n",
      " [-1.2008261  -0.07920447 -1.27362339 -1.39818317]\n",
      " [ 1.10962412  0.15261349  0.42958768  0.35940405]\n",
      " [-0.95762082 -2.39738403 -0.08137564 -0.18139201]\n",
      " [-0.83601817  1.77533918 -0.98975488 -0.99258612]\n",
      " [-0.10640231 -1.23829425  0.77022989  1.17059815]\n",
      " [-1.44403139  0.38443144 -1.27362339 -1.26298415]\n",
      " [ 0.5016109  -0.31102242  0.37281398  0.22420504]\n",
      " [ 1.71763734  0.38443144  1.33796692  0.90020012]\n",
      " [-0.47121024  0.84806735 -1.10330228 -1.26298415]\n",
      " [-0.10640231  3.16624691 -1.21684968 -0.99258612]\n",
      " [ 2.32565056 -1.00647629  1.84893024  1.5761952 ]\n",
      " [ 0.25840562 -1.93374811  0.77022989  0.49460307]\n",
      " [ 0.74481619 -0.54284038  1.11087211  1.30579717]\n",
      " [-0.3496076  -1.4701122   0.03217176 -0.18139201]\n",
      " [-1.2008261  -0.07920447 -1.27362339 -1.12778513]\n",
      " [-0.83601817  1.54352122 -1.21684968 -0.99258612]\n",
      " [ 0.62321355 -1.23829425  0.71345619  0.49460307]\n",
      " [ 2.32565056 -0.54284038  1.73538283  1.17059815]\n",
      " [ 1.35282941  0.15261349  0.71345619  0.49460307]\n",
      " [ 1.23122677 -0.07920447  1.0540984   1.30579717]\n",
      " [ 0.86641883  0.38443144  0.8270036   1.17059815]\n",
      " [ 1.23122677  0.38443144  1.28119321  1.5761952 ]\n",
      " [-0.83601817  1.77533918 -1.21684968 -1.12778513]\n",
      " [-0.95762082  1.07988531 -1.33039709 -1.12778513]\n",
      " [ 2.20404791 -0.07920447  1.67860913  1.30579717]\n",
      " [-0.3496076   2.702611   -1.27362339 -1.26298415]\n",
      " [ 1.35282941  0.15261349  0.8270036   1.5761952 ]\n",
      " [-0.71441553  2.47079305 -1.21684968 -1.39818317]\n",
      " [ 0.13680297 -0.07920447  0.31604028  0.49460307]\n",
      " [ 0.62321355  0.6162494   1.33796692  1.84659324]\n",
      " [-1.68723668  0.38443144 -1.33039709 -1.26298415]\n",
      " [ 0.5016109  -1.93374811  0.48636138  0.49460307]\n",
      " [-0.95762082  1.31170327 -1.27362339 -1.26298415]\n",
      " [-0.22800496 -0.31102242 -0.02460194  0.22420504]\n",
      " [ 0.25840562  0.84806735  0.48636138  0.62980209]\n",
      " [ 0.98802148 -0.07920447  0.42958768  0.35940405]\n",
      " [-1.07922346  1.31170327 -1.27362339 -1.39818317]\n",
      " [-1.07922346 -1.23829425  0.48636138  0.7650011 ]\n",
      " [ 0.38000826 -1.00647629  1.11087211  0.35940405]\n",
      " [-0.95762082  1.07988531 -1.16007598 -0.72218808]\n",
      " [ 0.01520033 -0.77465834  0.14571917  0.08900602]\n",
      " [ 0.62321355  0.6162494   0.59990879  0.62980209]\n",
      " [ 0.01520033 -0.54284038  0.8270036   1.71139422]\n",
      " [-1.2008261   0.15261349 -1.16007598 -1.26298415]\n",
      " [-0.10640231 -1.00647629 -0.08137564 -0.18139201]\n",
      " [ 1.35282941  0.38443144  1.16764581  1.5761952 ]\n",
      " [-0.10640231 -0.31102242  0.31604028  0.22420504]\n",
      " [-0.3496076  -1.00647629  0.42958768  0.08900602]\n",
      " [ 0.74481619 -0.77465834  0.940551    1.03539914]\n",
      " [-1.44403139  0.84806735 -1.27362339 -1.12778513]\n",
      " [-0.3496076  -1.23829425  0.20249287  0.22420504]\n",
      " [ 0.86641883 -0.07920447  0.8837773   1.17059815]\n",
      " [-1.80883932 -0.07920447 -1.44394449 -1.39818317]\n",
      " [ 1.83923998 -0.31102242  1.50828802  0.90020012]\n",
      " [-0.47121024  2.00715713 -1.33039709 -0.99258612]\n",
      " [-0.95762082 -0.07920447 -1.16007598 -1.26298415]\n",
      " [ 0.38000826 -0.31102242  0.59990879  0.35940405]\n",
      " [-0.83601817  1.77533918 -1.16007598 -1.26298415]\n",
      " [ 1.10962412 -1.23829425  1.22441951  0.90020012]\n",
      " [ 0.38000826 -0.07920447  0.71345619  0.90020012]\n",
      " [ 1.96084263 -0.54284038  1.39474062  1.03539914]\n",
      " [ 1.23122677 -0.54284038  0.65668249  0.35940405]\n",
      " [ 0.86641883 -0.07920447  1.0540984   0.90020012]]\n"
     ]
    }
   ],
   "source": [
    "object= StandardScaler()\n",
    "# standardization \n",
    "scale = object.fit_transform(X_train) \n",
    "print(scale)"
   ]
  },
  {
   "cell_type": "code",
   "execution_count": null,
   "metadata": {},
   "outputs": [],
   "source": []
  }
 ],
 "metadata": {
  "kernelspec": {
   "display_name": "Python 3",
   "language": "python",
   "name": "python3"
  },
  "language_info": {
   "codemirror_mode": {
    "name": "ipython",
    "version": 3
   },
   "file_extension": ".py",
   "mimetype": "text/x-python",
   "name": "python",
   "nbconvert_exporter": "python",
   "pygments_lexer": "ipython3",
   "version": "3.10.4"
  },
  "orig_nbformat": 4
 },
 "nbformat": 4,
 "nbformat_minor": 2
}
